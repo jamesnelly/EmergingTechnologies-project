{
 "cells": [
  {
   "cell_type": "code",
   "execution_count": 1,
   "metadata": {},
   "outputs": [
    {
     "name": "stderr",
     "output_type": "stream",
     "text": [
      "Using TensorFlow backend.\n",
      "C:\\Users\\james\\.conda\\envs\\venv\\lib\\site-packages\\tensorflow\\python\\framework\\dtypes.py:526: FutureWarning: Passing (type, 1) or '1type' as a synonym of type is deprecated; in a future version of numpy, it will be understood as (type, (1,)) / '(1,)type'.\n",
      "  _np_qint8 = np.dtype([(\"qint8\", np.int8, 1)])\n",
      "C:\\Users\\james\\.conda\\envs\\venv\\lib\\site-packages\\tensorflow\\python\\framework\\dtypes.py:527: FutureWarning: Passing (type, 1) or '1type' as a synonym of type is deprecated; in a future version of numpy, it will be understood as (type, (1,)) / '(1,)type'.\n",
      "  _np_quint8 = np.dtype([(\"quint8\", np.uint8, 1)])\n",
      "C:\\Users\\james\\.conda\\envs\\venv\\lib\\site-packages\\tensorflow\\python\\framework\\dtypes.py:528: FutureWarning: Passing (type, 1) or '1type' as a synonym of type is deprecated; in a future version of numpy, it will be understood as (type, (1,)) / '(1,)type'.\n",
      "  _np_qint16 = np.dtype([(\"qint16\", np.int16, 1)])\n",
      "C:\\Users\\james\\.conda\\envs\\venv\\lib\\site-packages\\tensorflow\\python\\framework\\dtypes.py:529: FutureWarning: Passing (type, 1) or '1type' as a synonym of type is deprecated; in a future version of numpy, it will be understood as (type, (1,)) / '(1,)type'.\n",
      "  _np_quint16 = np.dtype([(\"quint16\", np.uint16, 1)])\n",
      "C:\\Users\\james\\.conda\\envs\\venv\\lib\\site-packages\\tensorflow\\python\\framework\\dtypes.py:530: FutureWarning: Passing (type, 1) or '1type' as a synonym of type is deprecated; in a future version of numpy, it will be understood as (type, (1,)) / '(1,)type'.\n",
      "  _np_qint32 = np.dtype([(\"qint32\", np.int32, 1)])\n",
      "C:\\Users\\james\\.conda\\envs\\venv\\lib\\site-packages\\tensorflow\\python\\framework\\dtypes.py:535: FutureWarning: Passing (type, 1) or '1type' as a synonym of type is deprecated; in a future version of numpy, it will be understood as (type, (1,)) / '(1,)type'.\n",
      "  np_resource = np.dtype([(\"resource\", np.ubyte, 1)])\n"
     ]
    }
   ],
   "source": [
    "# loading the dataset\n",
    "from keras.datasets import mnist\n",
    "(x_train, y_train), (x_test, y_test) = mnist.load_data()\n",
    "\n",
    "from keras import layers\n",
    "import keras as kr\n",
    "import numpy as np\n",
    "#import matplotlib.pyplot as plt"
   ]
  },
  {
   "cell_type": "code",
   "execution_count": 2,
   "metadata": {},
   "outputs": [
    {
     "name": "stdout",
     "output_type": "stream",
     "text": [
      "WARNING:tensorflow:From C:\\Users\\james\\.conda\\envs\\venv\\lib\\site-packages\\tensorflow\\python\\ops\\resource_variable_ops.py:435: colocate_with (from tensorflow.python.framework.ops) is deprecated and will be removed in a future version.\n",
      "Instructions for updating:\n",
      "Colocations handled automatically by placer.\n"
     ]
    }
   ],
   "source": [
    "#creating the sequential model\n",
    "mod = kr.models.Sequential()\n",
    "# First layer has 512 nodes\n",
    "# without the activation function we would only be able to fit linear models to the data\n",
    "mod.add(kr.layers.Dense(512, activation='relu',input_shape=(28*28,)))\n",
    "# output layer has 10 nodes\n",
    "# softmax is our activation function \n",
    "mod.add(kr.layers.Dense(10, activation='softmax'))"
   ]
  },
  {
   "cell_type": "code",
   "execution_count": 3,
   "metadata": {},
   "outputs": [],
   "source": [
    "# This will configure my model for Training\n",
    "# An optimizer is one of the arguments required for compiling a Keras model\n",
    "# A loss function is the other argument required to compile a our model\n",
    "# A metric is a function that is used to judge the performance of your model\n",
    "\n",
    "# The Adam optimizer is an adaptive learning rate optimization algorithm that's been \n",
    "# designed specifically for training deep neural networks\n",
    "# categorical_crossentropy what this does it computes the difference between the actual output \n",
    "# and the output predicted by the model which then gives us the error in the prediction \n",
    "# this is then given as feedback to the optimizer which in turn will give us a better model with each and every iteration\n",
    "\n",
    "mod.compile(optimizer='adam', loss='categorical_crossentropy', metrics=['accuracy'])"
   ]
  },
  {
   "cell_type": "code",
   "execution_count": 4,
   "metadata": {},
   "outputs": [],
   "source": [
    "# Prepocessing our data \n",
    "# flattening out our  28 * 28 pixel matrix\n",
    "x_train = x_train.reshape((60000,28*28))\n",
    "# Normalizing\n",
    "x_train = x_train.astype('float32') / 255"
   ]
  },
  {
   "cell_type": "code",
   "execution_count": 5,
   "metadata": {},
   "outputs": [],
   "source": [
    "x_test = x_test.reshape((10000,28*28))\n",
    "x_test = x_test.astype('float32') / 255"
   ]
  },
  {
   "cell_type": "code",
   "execution_count": 6,
   "metadata": {},
   "outputs": [],
   "source": [
    "# Creating one hot vector of the output labels\n",
    "from keras.utils import to_categorical\n",
    "y_train = to_categorical(y_train)\n",
    "y_test = to_categorical(y_test)"
   ]
  },
  {
   "cell_type": "code",
   "execution_count": 7,
   "metadata": {},
   "outputs": [
    {
     "name": "stdout",
     "output_type": "stream",
     "text": [
      "WARNING:tensorflow:From C:\\Users\\james\\.conda\\envs\\venv\\lib\\site-packages\\tensorflow\\python\\ops\\math_ops.py:3066: to_int32 (from tensorflow.python.ops.math_ops) is deprecated and will be removed in a future version.\n",
      "Instructions for updating:\n",
      "Use tf.cast instead.\n",
      "Epoch 1/3\n",
      "60000/60000 [==============================] - 7s 121us/step - loss: 0.2684 - accuracy: 0.9246\n",
      "Epoch 2/3\n",
      "60000/60000 [==============================] - 7s 115us/step - loss: 0.1093 - accuracy: 0.9672\n",
      "Epoch 3/3\n",
      "60000/60000 [==============================] - 7s 114us/step - loss: 0.0718 - accuracy: 0.9789\n"
     ]
    },
    {
     "data": {
      "text/plain": [
       "<keras.callbacks.callbacks.History at 0x1c16bb1d080>"
      ]
     },
     "execution_count": 7,
     "metadata": {},
     "output_type": "execute_result"
    }
   ],
   "source": [
    "# Traing our model on the dataset\n",
    "# epochs is the number of iteration's over the entire dataset.\n",
    "# this will take in 4 Parameters (training images, training lable's, epochs, batch size)\n",
    "# using random batches of training date to train the model\n",
    "# the error is decreasing on each epoch\n",
    "# the accuarcy is also increasing with each epoch\n",
    "mod.fit(x_train, y_train, epochs=3, batch_size=128)"
   ]
  },
  {
   "cell_type": "code",
   "execution_count": 8,
   "metadata": {},
   "outputs": [
    {
     "name": "stdout",
     "output_type": "stream",
     "text": [
      "10000/10000 [==============================] - 1s 62us/step\n"
     ]
    }
   ],
   "source": [
    "# getting the test loss and test accuracy to\n",
    "# Evaluate the model on the test data.\n",
    "test_loss, test_acc = mod.evaluate(x_test, y_test)"
   ]
  },
  {
   "cell_type": "code",
   "execution_count": 9,
   "metadata": {},
   "outputs": [
    {
     "name": "stdout",
     "output_type": "stream",
     "text": [
      "testing accuracy:  0.9750999808311462\n"
     ]
    }
   ],
   "source": [
    "# testing the accuracy of our model\n",
    "print('testing accuracy: ', test_acc)"
   ]
  },
  {
   "cell_type": "code",
   "execution_count": 10,
   "metadata": {},
   "outputs": [],
   "source": [
    "# Saving our model in the current directory\n",
    "# this will save the architecture of the model\n",
    "# will the weights of the model\n",
    "# also save the training configuartions of the model\n",
    "mod.save('NewModel.h5')"
   ]
  },
  {
   "cell_type": "code",
   "execution_count": 11,
   "metadata": {},
   "outputs": [],
   "source": [
    "from keras.models import load_model\n",
    "new_model = load_model('NewModel.h5')"
   ]
  },
  {
   "cell_type": "code",
   "execution_count": 12,
   "metadata": {},
   "outputs": [
    {
     "name": "stdout",
     "output_type": "stream",
     "text": [
      "Model: \"sequential_1\"\n",
      "_________________________________________________________________\n",
      "Layer (type)                 Output Shape              Param #   \n",
      "=================================================================\n",
      "dense_1 (Dense)              (None, 512)               401920    \n",
      "_________________________________________________________________\n",
      "dense_2 (Dense)              (None, 10)                5130      \n",
      "=================================================================\n",
      "Total params: 407,050\n",
      "Trainable params: 407,050\n",
      "Non-trainable params: 0\n",
      "_________________________________________________________________\n"
     ]
    }
   ],
   "source": [
    "# the architecture of our model \n",
    "new_model.summary()"
   ]
  },
  {
   "cell_type": "code",
   "execution_count": 13,
   "metadata": {},
   "outputs": [
    {
     "data": {
      "text/plain": [
       "[array([[-0.05363782, -0.03999492,  0.05355673, ...,  0.04149638,\n",
       "          0.05618078,  0.03099518],\n",
       "        [ 0.03886215,  0.0034806 , -0.06285152, ..., -0.01039555,\n",
       "          0.00261317, -0.03427061],\n",
       "        [ 0.03887796, -0.02647982, -0.0001736 , ...,  0.0093209 ,\n",
       "         -0.03555922, -0.01206597],\n",
       "        ...,\n",
       "        [-0.04549111, -0.02562291,  0.0315337 , ...,  0.06128789,\n",
       "         -0.05823053,  0.00502214],\n",
       "        [-0.02636229,  0.0356707 , -0.05819785, ..., -0.02003437,\n",
       "         -0.04086533,  0.04118665],\n",
       "        [-0.06612915,  0.06756705,  0.0468806 , ...,  0.01688435,\n",
       "          0.04986575,  0.05047961]], dtype=float32),\n",
       " array([-2.45427666e-03, -1.14153661e-02,  1.01608094e-02,  3.35196108e-02,\n",
       "        -5.95579436e-03, -8.11488181e-03,  1.00138132e-02, -1.28664067e-02,\n",
       "        -1.36938989e-02, -4.14619930e-02, -3.99807468e-03,  4.35125940e-02,\n",
       "         3.29582095e-02, -6.99603371e-03,  1.25787705e-02,  3.61449048e-02,\n",
       "         3.39127257e-02,  1.64510664e-02,  4.84768208e-03, -1.48674492e-02,\n",
       "         1.32243428e-03, -9.79861803e-03,  5.00691449e-03,  3.03801410e-02,\n",
       "        -1.02111110e-02,  5.79312211e-03, -9.96079948e-03,  4.78902273e-02,\n",
       "         1.84700843e-02, -6.19909680e-03,  1.98955601e-03,  1.02254981e-02,\n",
       "         2.81233769e-02, -2.32070163e-02, -1.61348544e-02, -2.04938669e-02,\n",
       "         2.07229406e-02,  5.13775274e-02,  4.42679636e-02,  3.25154103e-02,\n",
       "         1.53685752e-02, -5.46956547e-02,  2.04635262e-02,  3.06081902e-02,\n",
       "        -4.20086086e-03,  3.15549299e-02,  8.85819783e-04, -2.11557634e-02,\n",
       "         6.62609264e-02,  2.50204597e-02,  8.40571243e-03, -3.87058705e-02,\n",
       "         2.62233708e-02,  2.94935629e-02,  5.27698472e-02,  2.38157213e-02,\n",
       "         2.70140637e-02,  1.44691542e-02, -6.95204455e-03, -2.89693549e-02,\n",
       "         3.44366543e-02,  6.22176053e-03, -1.29481116e-02, -2.24627014e-02,\n",
       "         7.88041670e-03, -1.09044276e-03,  2.44687498e-02, -4.38145213e-02,\n",
       "         1.63925048e-02,  3.66320387e-02, -1.03548998e-02,  8.83444622e-02,\n",
       "         3.75749618e-02, -1.71295796e-02,  4.32853028e-02, -1.21467803e-02,\n",
       "        -2.68789604e-02, -5.23406127e-03,  7.14648701e-03,  2.66604647e-02,\n",
       "         6.12407597e-03,  4.16543558e-02,  1.65551100e-02,  8.47634394e-03,\n",
       "         3.36523168e-02,  4.34149103e-03,  1.95477344e-02,  3.59011889e-02,\n",
       "         6.74866838e-03, -5.16287796e-03,  6.01094924e-02,  1.63453128e-02,\n",
       "         2.65434124e-02,  3.13872881e-02,  3.73595916e-02, -1.82732064e-02,\n",
       "         5.17005585e-02,  3.42053548e-02,  4.03290391e-02,  1.91085953e-02,\n",
       "         2.09514964e-02,  4.02138382e-02, -6.22798549e-03, -8.69928673e-03,\n",
       "         4.57581729e-02,  6.19766302e-03,  4.16520759e-02,  2.39889137e-02,\n",
       "        -1.52807627e-02,  1.04184719e-02, -2.95641879e-03,  2.51823999e-02,\n",
       "         1.51829589e-02,  3.13872211e-02, -4.08778824e-02,  3.91937979e-02,\n",
       "        -3.51146385e-02, -1.40998531e-02, -1.17471470e-02, -1.61320642e-02,\n",
       "         1.00010578e-02,  3.57570574e-02, -1.88214332e-02,  3.66140902e-03,\n",
       "         4.57041301e-02, -1.24976020e-02, -1.55371008e-02, -2.24312618e-02,\n",
       "         4.99306992e-02,  3.54113914e-02,  1.52212456e-02,  3.49093764e-03,\n",
       "         1.16899805e-02,  5.90199605e-03,  2.27833297e-02,  2.05736384e-02,\n",
       "        -1.41796330e-02, -3.56955715e-02,  3.52865271e-02,  3.82874422e-02,\n",
       "        -1.05590057e-02,  1.96817350e-02,  2.51500160e-02, -3.60215940e-02,\n",
       "         2.08050795e-02,  2.51798891e-02, -1.12120928e-02,  1.85474548e-02,\n",
       "        -2.63072159e-02, -2.19618846e-02, -2.19587684e-02,  3.00925933e-02,\n",
       "         8.54392629e-03, -6.28348032e-04,  3.03937253e-02,  2.56705424e-03,\n",
       "        -6.53687585e-03,  4.97282706e-02,  1.60421133e-02,  1.85221396e-02,\n",
       "         5.43028908e-03,  4.85447049e-02,  2.30666175e-02,  8.55778344e-03,\n",
       "         1.08495420e-02, -1.83534771e-02,  1.61767891e-03,  2.74929628e-02,\n",
       "         1.25501409e-01, -3.61018702e-02, -1.02378114e-03,  1.95967616e-03,\n",
       "        -2.74099745e-02, -1.81886479e-02,  4.58111949e-02, -3.28132100e-02,\n",
       "        -1.79568008e-02, -8.62721633e-03,  2.67565232e-02,  5.42593710e-02,\n",
       "         7.07651302e-03,  1.71405654e-02, -1.94453704e-03,  6.13728538e-03,\n",
       "         3.44608724e-02, -4.91870334e-03, -2.63017807e-02,  3.11485045e-02,\n",
       "         1.86782219e-02, -7.10836658e-03, -1.68960262e-02, -2.72860229e-02,\n",
       "         1.03405438e-01,  4.99709435e-02, -1.28370812e-02, -2.35314071e-02,\n",
       "        -9.49062593e-03, -5.78175262e-02, -2.72137579e-03,  4.64413390e-02,\n",
       "         6.49123341e-02,  3.37857082e-02,  3.16770338e-02,  1.27687510e-02,\n",
       "         2.42018234e-02,  1.63092911e-02,  9.42020491e-03,  1.43785281e-02,\n",
       "        -7.65102915e-03, -1.57679748e-02,  8.92285109e-02,  1.94504932e-02,\n",
       "         1.94762200e-02,  1.76045783e-02,  2.78012045e-02,  1.74740255e-02,\n",
       "        -5.07114129e-03,  9.74301435e-03,  2.94242091e-02,  1.72474328e-02,\n",
       "         4.92239930e-02,  1.95805654e-02,  1.83524080e-02, -8.25125072e-03,\n",
       "         5.92391975e-02,  1.17501561e-02, -5.34106679e-02,  1.49357319e-02,\n",
       "        -2.72193514e-02, -1.07518854e-02, -5.90094598e-03,  1.94460917e-02,\n",
       "        -1.41704567e-02, -5.12498990e-02,  2.60426626e-02,  5.10226004e-03,\n",
       "         4.06160802e-02,  1.45563632e-02,  1.97370667e-02,  3.17829587e-02,\n",
       "         1.85747240e-02,  1.14187151e-02,  5.07691922e-03,  1.72615182e-02,\n",
       "        -1.99750662e-02,  6.91086752e-03,  4.26111706e-02, -2.64139995e-02,\n",
       "         4.33387794e-02,  1.90690365e-02, -7.84645882e-03,  3.28798592e-02,\n",
       "        -4.32349369e-03,  5.30964583e-02,  2.85001341e-02,  2.75250580e-02,\n",
       "         4.27104253e-03,  1.78205650e-02,  2.76043043e-02, -1.62415337e-02,\n",
       "         3.08584440e-02,  3.61420475e-02,  3.13132443e-02,  3.41396295e-02,\n",
       "        -6.88998355e-03, -2.86459690e-03, -1.73946377e-02, -1.77380703e-02,\n",
       "         3.12542059e-02,  6.73087314e-02,  3.81115153e-02,  1.99840274e-02,\n",
       "        -2.62004472e-02,  5.02434978e-03, -2.84971222e-02,  3.21248779e-03,\n",
       "         2.36869231e-02,  6.69047423e-03, -1.68649014e-02,  1.12536974e-01,\n",
       "         3.10750864e-02,  1.38993086e-02, -5.52830519e-03,  1.09946355e-02,\n",
       "         1.40094012e-02,  1.10294642e-02,  2.41060033e-02,  5.49264587e-02,\n",
       "         5.75714558e-02,  1.94940250e-02, -8.51134583e-03,  3.05770896e-02,\n",
       "         1.34084551e-02, -6.95750117e-03,  4.72205020e-02,  6.37059659e-03,\n",
       "         5.24422936e-02,  6.88787317e-03, -9.99876671e-03,  2.37290207e-02,\n",
       "        -5.15509099e-02,  2.54925191e-02, -2.91941557e-02,  3.88851971e-03,\n",
       "         7.77000154e-04, -1.40697267e-02,  2.25189235e-02, -3.34142707e-03,\n",
       "        -1.10896141e-03, -1.68683864e-02,  3.27533074e-02,  3.91627923e-02,\n",
       "        -1.26830051e-02, -6.65571820e-03,  1.98819116e-03,  1.91828460e-02,\n",
       "         6.35860255e-03,  7.19713699e-03, -2.54077511e-03, -6.32483466e-03,\n",
       "         9.04659033e-02, -9.38408729e-03, -3.13275084e-02, -3.41750272e-02,\n",
       "         1.25456359e-02,  6.18461445e-02,  1.01756360e-02, -2.80126929e-02,\n",
       "         4.36843112e-02, -1.18707726e-02,  1.51725784e-02,  3.03713866e-02,\n",
       "        -1.27148507e-02, -4.94533265e-03,  2.67238952e-02,  5.50890118e-02,\n",
       "        -1.01125650e-02, -2.51048640e-03, -4.68185022e-02, -1.21428203e-02,\n",
       "         3.35035240e-03,  2.28652954e-02, -9.79135837e-03, -1.47532346e-02,\n",
       "         2.80080382e-02,  4.20571156e-02, -2.89832969e-04,  3.97842415e-02,\n",
       "         4.66606840e-02,  1.09482761e-02, -5.75637445e-02,  5.05266190e-02,\n",
       "         3.77911516e-02,  2.32268479e-02,  5.14902500e-03,  1.92700997e-02,\n",
       "         4.27501909e-02,  1.55258402e-02, -2.38930620e-02, -4.98896129e-02,\n",
       "         1.06293731e-03,  2.96480507e-02, -1.98408253e-02, -3.32545638e-02,\n",
       "        -2.28426605e-02,  3.85616049e-02,  2.60485727e-02,  1.34259753e-03,\n",
       "        -2.05641296e-02,  2.27335691e-02,  1.38252899e-02,  5.58253974e-02,\n",
       "         1.89008415e-02, -6.19475264e-04,  2.50397101e-02,  6.49970621e-02,\n",
       "         3.04351822e-02, -2.10991688e-02,  6.79291263e-02,  5.37477783e-04,\n",
       "         3.12727019e-02,  3.91478054e-02,  4.50328598e-03,  4.74361936e-03,\n",
       "         2.78262030e-02,  2.38255728e-02,  7.17756450e-02,  4.18917164e-02,\n",
       "         3.35253365e-02, -1.72967482e-02,  1.25105726e-02,  1.34560000e-02,\n",
       "         2.82873157e-02,  1.42050777e-02, -2.26047616e-02, -6.40047435e-03,\n",
       "         3.70558314e-02,  4.95574772e-02,  4.15526591e-02,  1.76898632e-02,\n",
       "         1.06291836e-02, -6.19299011e-03,  1.48749044e-02,  9.53944121e-03,\n",
       "         1.93645060e-02, -2.74659507e-02,  8.29451531e-03,  2.99162995e-02,\n",
       "         3.34202684e-02,  2.02676412e-02, -1.45692043e-02, -1.68381836e-02,\n",
       "         3.70687097e-02,  2.39024851e-02,  3.00884377e-02, -1.83529556e-02,\n",
       "        -1.37058469e-02, -1.08035340e-03, -8.01617354e-02,  2.60530468e-02,\n",
       "         2.45433878e-02, -1.24114202e-02,  1.12052960e-02,  7.51181273e-03,\n",
       "        -1.13979066e-02,  2.38899868e-02,  4.51146774e-02,  4.74985577e-02,\n",
       "        -1.27882529e-02,  6.63888156e-02,  2.29192991e-02,  1.65168513e-02,\n",
       "        -2.42945505e-03,  4.29913495e-03, -3.20278183e-02,  3.13046798e-02,\n",
       "        -5.63466019e-05,  2.83316057e-02,  5.14466353e-02,  1.20214280e-02,\n",
       "         5.21964813e-03,  1.39988428e-02,  3.91864637e-03,  3.49384360e-02,\n",
       "         1.27099082e-02,  1.60689894e-02,  1.66095793e-02,  4.46788892e-02,\n",
       "         1.60041563e-02,  3.27594578e-02, -4.17657429e-05, -3.93913276e-02,\n",
       "         1.92642454e-02,  3.12884189e-02,  5.85623533e-02, -6.18106453e-03,\n",
       "         4.61733229e-02,  2.52946857e-02,  2.94188652e-02,  4.06530220e-03,\n",
       "        -8.69044196e-03,  1.20750219e-02,  1.29487477e-02,  4.66922112e-03,\n",
       "        -8.55625793e-03,  3.20643187e-02, -3.64564080e-03, -1.34887472e-02,\n",
       "        -1.48187587e-02,  1.99822467e-02, -1.26940561e-02,  1.00830691e-02,\n",
       "         3.17642651e-02,  5.92997260e-02, -1.25784371e-02, -1.45491501e-02,\n",
       "        -1.09651927e-02,  9.73327435e-04,  5.88468201e-02,  1.93824992e-02,\n",
       "         4.52855229e-02,  3.86368707e-02, -5.27081720e-04,  2.69472729e-02,\n",
       "        -1.43751781e-02,  2.44288612e-03,  2.46970891e-03, -2.04024594e-02,\n",
       "         6.91011027e-02, -1.29256947e-02, -2.95732301e-02,  6.21355837e-03,\n",
       "         3.19337025e-02,  1.58803891e-02, -1.13097737e-02,  6.50290847e-02,\n",
       "         2.75583658e-02,  1.52784605e-02, -1.75100621e-02, -2.20958591e-02,\n",
       "        -1.75540298e-02,  3.63475755e-02,  3.48804854e-02,  1.77610014e-02,\n",
       "        -2.42746416e-02, -1.57200918e-03,  5.48864789e-02, -2.77250707e-02,\n",
       "         2.76264758e-03,  3.85767892e-02,  5.36252651e-03,  1.97507944e-02],\n",
       "       dtype=float32),\n",
       " array([[ 0.05690612,  0.06546948, -0.07678827, ..., -0.1981765 ,\n",
       "          0.12104099,  0.14092012],\n",
       "        [ 0.07030914,  0.09605435,  0.01879666, ..., -0.00128737,\n",
       "         -0.33831564,  0.13912947],\n",
       "        [ 0.12404589,  0.00613751, -0.09799203, ...,  0.12093327,\n",
       "          0.01957381, -0.08130054],\n",
       "        ...,\n",
       "        [ 0.08025647, -0.22893743,  0.0294471 , ..., -0.05918571,\n",
       "         -0.16086446,  0.15389332],\n",
       "        [-0.04459794, -0.18563056, -0.14695613, ...,  0.0969311 ,\n",
       "          0.09879768,  0.08135521],\n",
       "        [-0.0188503 , -0.02829765,  0.1157759 , ...,  0.127139  ,\n",
       "         -0.0979427 ,  0.1286364 ]], dtype=float32),\n",
       " array([-0.05838061,  0.00091951,  0.00137012, -0.01158817,  0.02590744,\n",
       "         0.04300809, -0.01647528,  0.00869766,  0.01522805, -0.0132516 ],\n",
       "       dtype=float32)]"
      ]
     },
     "execution_count": 13,
     "metadata": {},
     "output_type": "execute_result"
    }
   ],
   "source": [
    "# Shows the weights that have been assigned to our model\n",
    "# getting these weights from my h5 file\n",
    "new_model.get_weights()"
   ]
  },
  {
   "cell_type": "code",
   "execution_count": 14,
   "metadata": {},
   "outputs": [
    {
     "data": {
      "text/plain": [
       "<keras.optimizers.Adam at 0x1c172c5ae80>"
      ]
     },
     "execution_count": 14,
     "metadata": {},
     "output_type": "execute_result"
    }
   ],
   "source": [
    "# this shows the optimizer that was used in my model\n",
    "new_model.optimizer"
   ]
  },
  {
   "cell_type": "code",
   "execution_count": 15,
   "metadata": {},
   "outputs": [
    {
     "name": "stdout",
     "output_type": "stream",
     "text": [
      "At predictions index 0, number is a  9\n"
     ]
    }
   ],
   "source": [
    "# predicting numbers \n",
    "predictions = new_model.predict([x_test])\n",
    "print('At predictions index 0, number is a ', np.argmax(predictions[9]))"
   ]
  },
  {
   "cell_type": "code",
   "execution_count": 16,
   "metadata": {},
   "outputs": [
    {
     "name": "stdout",
     "output_type": "stream",
     "text": [
      "At predictions index 0, number is a  6\n"
     ]
    }
   ],
   "source": [
    "# predicting numbers \n",
    "predictions = new_model.predict([x_test])\n",
    "print('At predictions index 0, number is a ', np.argmax(predictions[8]))"
   ]
  },
  {
   "cell_type": "code",
   "execution_count": 17,
   "metadata": {},
   "outputs": [
    {
     "name": "stdout",
     "output_type": "stream",
     "text": [
      "At predictions index 0, number is a  2\n"
     ]
    }
   ],
   "source": [
    "# # predicting numbers \n",
    "predictions = new_model.predict([x_test])\n",
    "print('At predictions index 0, number is a ', np.argmax(predictions[1]))"
   ]
  },
  {
   "cell_type": "markdown",
   "metadata": {},
   "source": [
    "## References\n",
    "\n",
    "*  helped with developing the model https://www.youtube.com/watch?v=n5a0WBIQitI\n",
    "*  helped with developing the model  youtube.com/watch?v=j-3vuBynnOE&list=PLQVvvaa0QuDfhTox0AjmQ6tvTgMBZBEXN&index=2\n",
    "*  helped with saving the model https://www.youtube.com/watch?v=7n1SpeudvAE\n",
    " \n",
    "*  keras https://keras.io/\n",
    "*  tensorflow https://www.tensorflow.org/\n",
    "*  MNIST http://yann.lecun.com/exdb/mnist/\n",
    "*  Numpy https://numpy.org/\n"
   ]
  }
 ],
 "metadata": {
  "kernelspec": {
   "display_name": "Python 3",
   "language": "python",
   "name": "python3"
  },
  "language_info": {
   "codemirror_mode": {
    "name": "ipython",
    "version": 3
   },
   "file_extension": ".py",
   "mimetype": "text/x-python",
   "name": "python",
   "nbconvert_exporter": "python",
   "pygments_lexer": "ipython3",
   "version": "3.6.7"
  }
 },
 "nbformat": 4,
 "nbformat_minor": 2
}
